{
 "cells": [
  {
   "cell_type": "code",
   "execution_count": 4,
   "metadata": {},
   "outputs": [],
   "source": [
    "import warnings\n",
    "warnings.filterwarnings(\"ignore\")"
   ]
  },
  {
   "cell_type": "code",
   "execution_count": 5,
   "metadata": {},
   "outputs": [],
   "source": [
    "import pickle\n",
    "import pandas as pd\n",
    "\n",
    "train = pd.read_csv(\"../datasets/train_harass.csv\")\n",
    "test = pd.read_csv(\"../datasets/test_harass.csv\")\n"
   ]
  },
  {
   "cell_type": "code",
   "execution_count": 6,
   "metadata": {},
   "outputs": [],
   "source": [
    "xtrain = train['Description'].values\n",
    "ytrain = train[['Commenting' , 'Ogling/Facial Expressions/Staring' ,'Touching /Groping']].values\n",
    "\n",
    "xtest = test['Description'].values\n",
    "ytest = test[['Commenting' , 'Ogling/Facial Expressions/Staring' ,'Touching /Groping']].values"
   ]
  },
  {
   "cell_type": "code",
   "execution_count": 7,
   "metadata": {},
   "outputs": [],
   "source": [
    "import re\n",
    "from nltk.stem import PorterStemmer\n",
    "\n",
    "def preprocess(data):\n",
    "    stopwords= ['i', 'me', 'my', 'myself', 'we', 'our', 'ours', 'ourselves', 'you', \"you're\", \"you've\",\\\n",
    "            \"you'll\", \"you'd\", 'your', 'yours', 'yourself', 'yourselves', 'he', 'him', 'his', 'himself', \\\n",
    "            'she', \"she's\", 'her', 'hers', 'herself', 'it', \"it's\", 'its', 'itself', 'they', 'them', 'their',\\\n",
    "            'theirs', 'themselves', 'what', 'which', 'who', 'whom', 'this', 'that', \"that'll\", 'these', 'those', \\\n",
    "            'am', 'is', 'are', 'was', 'were', 'be', 'been', 'being', 'have', 'has', 'had', 'having', 'do', 'does', \\\n",
    "            'did', 'doing', 'a', 'an', 'the', 'and', 'but', 'if', 'or', 'because', 'as', 'until', 'while', 'of', \\\n",
    "            'at', 'by', 'for', 'with', 'about', 'against', 'between', 'into', 'through', 'during', 'before', 'after',\\\n",
    "            'above', 'below', 'to', 'from', 'up', 'down', 'in', 'out', 'on', 'off', 'over', 'under', 'again', 'further',\\\n",
    "            'then', 'once', 'here', 'there', 'when', 'where', 'why', 'how', 'all', 'any', 'both', 'each', 'few', 'more',\\\n",
    "            'most', 'other', 'some', 'such', 'only', 'own', 'same', 'so', 'than', 'too', 'very', \\\n",
    "            's', 't', 'can', 'will', 'just', 'don', \"don't\"]\n",
    "    \n",
    "    data = data.lower() \n",
    "    \n",
    "    data = re.sub(r\"n\\'t\", \" not\", data)  \n",
    "    data = re.sub(r\"\\'re\", \" are\", data)   #decontraction\n",
    "    data = re.sub(r\"\\'s\", \" is\", data)   #decontraction\n",
    "    data = re.sub(r\"\\'d\", \" would\", data)   #decontraction\n",
    "    data = re.sub(r\"\\'ll\", \" will\", data)   #decontraction\n",
    "    data = re.sub(r\"\\'t\", \" not\", data)   #decontraction\n",
    "    data = re.sub(r\"\\'ve\", \" have\", data)   #decontraction\n",
    "    data = re.sub(r\"\\'m\", \" am\", data)   #decontraction\n",
    "    \n",
    "    d = data.split()\n",
    "    d.append('0')\n",
    "    for index , i in enumerate(d):\n",
    "        if len(i)<=2:                 #removing words that is of length 2 or less\n",
    "            d[index] = '0'\n",
    "    data = ' '.join(d)\n",
    "    \n",
    "    data = re.sub('[^a-z ]',' ',data) #removing all the non alphabets i.e. comma , . - _ numbers \n",
    "    data = re.sub(\"\\s+\",' ',data) #removing all extra spaces \n",
    "    data = data.strip() #removing spaces at the end \n",
    "    \n",
    "    data = ' '.join([i for i in data.split() if i not in stopwords])  #removing all stopwords\n",
    "    data = ' '.join([w for w in data.split() if len(w)>3 and len(w)<15]) #removing all words whose length < 3 and > 15.\n",
    "    \n",
    "    return data\n",
    "        \n",
    "    \n",
    "def stem(data_corpus):\n",
    "    ps = PorterStemmer()\n",
    "    stemmed_data = [] \n",
    "    for sentence in data_corpus:\n",
    "        stemmed_data.append(\" \".join([ps.stem(i) for i in sentence.split()]))\n",
    "    return stemmed_data\n",
    "        \n",
    "    "
   ]
  },
  {
   "cell_type": "code",
   "execution_count": 8,
   "metadata": {},
   "outputs": [],
   "source": [
    "train = []\n",
    "test = []\n",
    "\n",
    "for desc in xtrain:\n",
    "    train.append(preprocess(desc))\n",
    "    \n",
    "for desc in xtest:\n",
    "    test.append(preprocess(desc))\n",
    "    \n",
    "stem_train = stem(train)\n",
    "stem_test = stem(test)\n"
   ]
  },
  {
   "cell_type": "code",
   "execution_count": 9,
   "metadata": {},
   "outputs": [],
   "source": [
    "from sklearn.feature_extraction.text import TfidfVectorizer\n",
    "vectoriser = TfidfVectorizer(stop_words = 'english' , ngram_range=(1,3),min_df = 5)\n",
    "\n",
    "train_bigram_trigrams = vectoriser.fit_transform(stem_train)\n",
    "val_bigram_trigrams = vectoriser.transform(stem_test) \n"
   ]
  },
  {
   "cell_type": "code",
   "execution_count": 10,
   "metadata": {},
   "outputs": [
    {
     "name": "stdout",
     "output_type": "stream",
     "text": [
      "F1 score of the model is 0.6774679728711379\n",
      "Hamming loss of the model is 0.16774446404076035\n"
     ]
    }
   ],
   "source": [
    "from sklearn.ensemble import RandomForestClassifier\n",
    "from skmultilearn.problem_transform import BinaryRelevance\n",
    "from sklearn.metrics import f1_score\n",
    "from sklearn.metrics import hamming_loss\n",
    "\n",
    "xtrain = train_bigram_trigrams\n",
    "xtest = val_bigram_trigrams\n",
    "\n",
    "clf = RandomForestClassifier(n_estimators = 100 , n_jobs = -1)\n",
    "clf.fit(xtrain,ytrain)\n",
    "\n",
    "pred = clf.predict(xtest)\n",
    "\n",
    "print('F1 score of the model is {}'.format(f1_score(ytest, pred , average = 'micro')))\n",
    "print('Hamming loss of the model is {}'.format(hamming_loss(ytest , pred)))\n"
   ]
  },
  {
   "cell_type": "code",
   "execution_count": 11,
   "metadata": {},
   "outputs": [
    {
     "data": {
      "text/plain": [
       "['model.pkl']"
      ]
     },
     "execution_count": 11,
     "metadata": {},
     "output_type": "execute_result"
    }
   ],
   "source": [
    "import joblib\n",
    "joblib.dump(vectoriser , 'vectoriser.pkl')\n",
    "joblib.dump(clf , 'model.pkl')"
   ]
  },
  {
   "cell_type": "code",
   "execution_count": 12,
   "metadata": {},
   "outputs": [],
   "source": [
    "model = joblib.load(r\"model.pkl\" )\n",
    "\n",
    "vectoriser = joblib.load(r\"vectoriser.pkl\")\n",
    "\n",
    "def predict(X):\n",
    "    \n",
    "    if type(X) == str:\n",
    "        X = [X]\n",
    "    input_query = []\n",
    "    for i in X:\n",
    "        input_query.append(preprocess(i))\n",
    "        \n",
    "    input_query = stem(input_query)\n",
    "\n",
    "    vector = vectoriser.transform(input_query)\n",
    "\n",
    "    pred = model.predict(vector)\n",
    "    \n",
    "    for i in pred: \n",
    "        result = []\n",
    "        if i[0] == 1:\n",
    "            result.append(\"Commenting \")\n",
    "        if i[1] == 1:\n",
    "            result.append(\"Staring \")\n",
    "        if i[2] == 1:\n",
    "            result.append(\"Groping \")\n",
    "        if len(result) == 0 :\n",
    "            result.append('Cannot be Classified')\n",
    "        print(' , '.join(result))    \n",
    "        \n",
    "    return pred \n",
    "        "
   ]
  },
  {
   "cell_type": "code",
   "execution_count": 13,
   "metadata": {},
   "outputs": [
    {
     "name": "stdout",
     "output_type": "stream",
     "text": [
      "Groping \n"
     ]
    },
    {
     "data": {
      "text/plain": [
       "array([[0, 0, 1]], dtype=int64)"
      ]
     },
     "execution_count": 13,
     "metadata": {},
     "output_type": "execute_result"
    }
   ],
   "source": [
    "predict(\"I was coming from market and a stranger touched me\")"
   ]
  },
  {
   "cell_type": "code",
   "execution_count": 14,
   "metadata": {},
   "outputs": [
    {
     "name": "stdout",
     "output_type": "stream",
     "text": [
      "Staring \n"
     ]
    },
    {
     "data": {
      "text/plain": [
       "array([[0, 1, 0]], dtype=int64)"
      ]
     },
     "execution_count": 14,
     "metadata": {},
     "output_type": "execute_result"
    }
   ],
   "source": [
    "predict(\"He was staring at me inside the bus\")"
   ]
  },
  {
   "cell_type": "code",
   "execution_count": 15,
   "metadata": {},
   "outputs": [
    {
     "name": "stdout",
     "output_type": "stream",
     "text": [
      "Commenting \n"
     ]
    },
    {
     "data": {
      "text/plain": [
       "array([[1, 0, 0]], dtype=int64)"
      ]
     },
     "execution_count": 15,
     "metadata": {},
     "output_type": "execute_result"
    }
   ],
   "source": [
    "predict(\"He was passing comments on my dress\")"
   ]
  },
  {
   "cell_type": "code",
   "execution_count": null,
   "metadata": {},
   "outputs": [],
   "source": []
  }
 ],
 "metadata": {
  "kernelspec": {
   "display_name": "Python 3",
   "language": "python",
   "name": "python3"
  },
  "language_info": {
   "codemirror_mode": {
    "name": "ipython",
    "version": 3
   },
   "file_extension": ".py",
   "mimetype": "text/x-python",
   "name": "python",
   "nbconvert_exporter": "python",
   "pygments_lexer": "ipython3",
   "version": "3.9.5"
  }
 },
 "nbformat": 4,
 "nbformat_minor": 4
}
